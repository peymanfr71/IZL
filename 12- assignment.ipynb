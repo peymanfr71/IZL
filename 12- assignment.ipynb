{
 "cells": [
  {
   "cell_type": "code",
   "execution_count": 10,
   "id": "7dfd3d04-2fdf-465f-87bf-9e1f124e7e1f",
   "metadata": {},
   "outputs": [],
   "source": [
    "# assignment-01) \n",
    "# Using concatenation try to create this output:"
   ]
  },
  {
   "cell_type": "code",
   "execution_count": 12,
   "id": "075e33c4-e7d9-4c10-990f-3e3ead3d9c82",
   "metadata": {},
   "outputs": [
    {
     "name": "stdout",
     "output_type": "stream",
     "text": [
      "my name is Ahmad Ahmadi.\n"
     ]
    }
   ],
   "source": [
    "# Write your code here:\n",
    "name = \"Ahmad\"\n",
    "last_name = \"Ahmadi\"\n",
    "space = \" \"\n",
    "dot = \".\"\n",
    "\n",
    "# start here:\n",
    "my_name = name + space + last_name + dot\n",
    "print (\"my name is\", my_name)"
   ]
  },
  {
   "cell_type": "code",
   "execution_count": 13,
   "id": "7ac4a08d-affc-4e22-817c-c6963c891d57",
   "metadata": {},
   "outputs": [],
   "source": [
    "# assignment-02) \n",
    "# Using concatenation and for loop try to create this output:\n",
    "# Note: You need to define an empty string. (\"\")"
   ]
  },
  {
   "cell_type": "code",
   "execution_count": 47,
   "id": "7606d91a-c598-4c2b-8aa3-538e1556df96",
   "metadata": {},
   "outputs": [
    {
     "name": "stdout",
     "output_type": "stream",
     "text": [
      "1 2 3 4 5   end! \n"
     ]
    }
   ],
   "source": [
    "# Write your code here:\n",
    "my_string_list = [\"1\", \"2\", \"3\", \"4\", \"5\", \" \", \"end!\"]\n",
    "# start here:\n",
    "result = \"\"\n",
    "for item in my_string_list:\n",
    "    result = result + item + \" \"\n",
    "print (result)\n",
    "    "
   ]
  },
  {
   "cell_type": "code",
   "execution_count": 27,
   "id": "0cb7667d-da95-42b4-8b89-a0f83e638a1e",
   "metadata": {},
   "outputs": [],
   "source": [
    "# assignment-03) \n",
    "# Using concatenation and for loop try to create this output:\n",
    "# Note: You need to define an empty string. (\"\")\n",
    "# Note: You need to use if statement."
   ]
  },
  {
   "cell_type": "code",
   "execution_count": 46,
   "id": "64125ba0-877b-4fa6-b9eb-65892cad4f00",
   "metadata": {},
   "outputs": [
    {
     "name": "stdout",
     "output_type": "stream",
     "text": [
      "1 2 3 4 5   end! end!end!end!end!end!\n"
     ]
    }
   ],
   "source": [
    "my_string_list = [\"1\", \"2\", \"3\", \"4\", \"5\", \" \", \"end!\"]\n",
    "result = \"\"\n",
    "for item in my_string_list:\n",
    "    result = result + item + \" \"\n",
    "    if item == \"end!\":\n",
    "        result = result + \"end!\" * 5\n",
    "print(result)"
   ]
  },
  {
   "cell_type": "code",
   "execution_count": 48,
   "id": "f45d9088-ba6d-4ee3-9cc4-c434431e393a",
   "metadata": {},
   "outputs": [],
   "source": [
    "# assignment-04) \n",
    "# Using slicing operator make this longest word in english into three equal part:"
   ]
  },
  {
   "cell_type": "code",
   "execution_count": 55,
   "id": "c338180b-69c4-4102-a7ac-839a5827cf5f",
   "metadata": {},
   "outputs": [
    {
     "name": "stdout",
     "output_type": "stream",
     "text": [
      "45\n",
      "part one:  Pneumonoultrami\n",
      "part two:  croscopicsilico\n",
      "part three:  volcanoconiosis\n"
     ]
    }
   ],
   "source": [
    "# Write your code here:\n",
    "longest_word_english = \"Pneumonoultramicroscopicsilicovolcanoconiosis\"\n",
    "# start here:\n",
    "print (len(longest_word_english))\n",
    "print (\"part one: \", longest_word_english[0:15])\n",
    "print (\"part two: \", longest_word_english[15:30])\n",
    "print (\"part three: \", longest_word_english[30:45])"
   ]
  },
  {
   "cell_type": "code",
   "execution_count": 56,
   "id": "29b4c1bb-10fa-4707-b6b4-affd8f5171c9",
   "metadata": {},
   "outputs": [],
   "source": [
    "# assignment-05) \n",
    "# Using slicing operator creat this output:"
   ]
  },
  {
   "cell_type": "code",
   "execution_count": 64,
   "id": "e66f0f21-fb27-4fcb-80bc-4f20ab08093d",
   "metadata": {},
   "outputs": [
    {
     "name": "stdout",
     "output_type": "stream",
     "text": [
      "exclamation mark: !\n",
      "question mark: ?\n",
      "colon symbol: :\n",
      "period symbol: .\n"
     ]
    }
   ],
   "source": [
    "# Write your code here:\n",
    "my_sentence = \"Hey! Are you OK? She answered: 'yes'.\"\n",
    "# start here:\n",
    "# print (my_sentence.find(\".\"))\n",
    "print (\"exclamation mark:\", my_sentence[3])\n",
    "print (\"question mark:\", my_sentence[15])\n",
    "print (\"colon symbol:\", my_sentence[29])\n",
    "print (\"period symbol:\", my_sentence[36])"
   ]
  },
  {
   "cell_type": "code",
   "execution_count": 69,
   "id": "918a38e7-2f6e-4a61-afa6-08a332eb643b",
   "metadata": {},
   "outputs": [
    {
     "name": "stdout",
     "output_type": "stream",
     "text": [
      "y\n",
      "h\n",
      "h\n",
      "o\n",
      "nohtyp\n"
     ]
    }
   ],
   "source": [
    "# Let's try it ourself:\n",
    "my_string = \"Python\"\n",
    "print(my_string[-5])\n",
    "print(\"Pyhton\"[-4])\n",
    "print(my_string[-3])\n",
    "print(\"Python\"[-2])\n",
    "print (my_string[::-1].lower())"
   ]
  },
  {
   "cell_type": "code",
   "execution_count": null,
   "id": "dee41bf2-e1e8-4306-95be-10d7996b7217",
   "metadata": {},
   "outputs": [],
   "source": []
  }
 ],
 "metadata": {
  "kernelspec": {
   "display_name": "Python 3 (ipykernel)",
   "language": "python",
   "name": "python3"
  },
  "language_info": {
   "codemirror_mode": {
    "name": "ipython",
    "version": 3
   },
   "file_extension": ".py",
   "mimetype": "text/x-python",
   "name": "python",
   "nbconvert_exporter": "python",
   "pygments_lexer": "ipython3",
   "version": "3.11.4"
  }
 },
 "nbformat": 4,
 "nbformat_minor": 5
}
