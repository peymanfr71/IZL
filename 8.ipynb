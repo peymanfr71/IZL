{
 "cells": [
  {
   "cell_type": "code",
   "execution_count": 59,
   "id": "807b8015-9bf3-4a97-b7e0-011a8050c1ad",
   "metadata": {},
   "outputs": [
    {
     "name": "stdout",
     "output_type": "stream",
     "text": [
      "HELLO JUPYTER\n"
     ]
    }
   ],
   "source": [
    "# print hello jupyter:\n",
    "print (\"hello Jupyter\".upper())"
   ]
  },
  {
   "cell_type": "code",
   "execution_count": 60,
   "id": "3e088c3a-2ba9-4774-b701-cd8e5e21d7c0",
   "metadata": {},
   "outputs": [
    {
     "name": "stdin",
     "output_type": "stream",
     "text": [
      "please enter your number:  50\n"
     ]
    }
   ],
   "source": [
    "# prompt a number from user:\n",
    "user_number = (input(\"please enter your number: \"))"
   ]
  },
  {
   "cell_type": "code",
   "execution_count": 62,
   "id": "da602c96-4e7d-4e0c-8b38-a163c355eb70",
   "metadata": {},
   "outputs": [
    {
     "name": "stdin",
     "output_type": "stream",
     "text": [
      "enter the number:  65.5\n"
     ]
    },
    {
     "name": "stdout",
     "output_type": "stream",
     "text": [
      "<class 'float'>\n"
     ]
    }
   ],
   "source": [
    "# prompt a number from user and return it's type:\n",
    "user_number = float(input(\"enter the number: \"))\n",
    "print (type(user_number))"
   ]
  },
  {
   "cell_type": "code",
   "execution_count": 64,
   "id": "c57d0f20-23b5-422d-a2ad-ee23bebf878d",
   "metadata": {},
   "outputs": [
    {
     "name": "stdout",
     "output_type": "stream",
     "text": [
      "0 <> 0 <> 0.0\n",
      "0 , 0.0 <<<<<<< Divide\n",
      ">>>>>>>>>>>>>>> modulo 3: 1\n",
      "1 <> 1 <> 0.5\n",
      "1 , 0.5 <<<<<<< Divide\n",
      ">>>>>>>>>>>>>>> modulo 3: 2\n",
      "2 <> 4 <> 2.0\n",
      "2 , 1.0 <<<<<<< Divide\n",
      "3 <> 9 <> 4.5\n",
      "3 , 1.5 <<<<<<< Divide\n",
      ">>>>>>>>>>>>>>> modulo 3: 1\n",
      "4 <> 16 <> 8.0\n",
      "4 , 2.0 <<<<<<< Divide\n",
      ">>>>>>>>>>>>>> it's 5\n",
      ">>>>>>>>>>>>>>> modulo 3: 2\n",
      "5 <> 25 <> 12.5\n",
      "5 , 2.5 <<<<<<< Divide\n",
      "6 <> 36 <> 18.0\n",
      "6 , 3.0 <<<<<<< Divide\n",
      ">>>>>>>>>>>>>>> modulo 3: 1\n",
      "7 <> 49 <> 24.5\n",
      "7 , 3.5 <<<<<<< Divide\n",
      ">>>>>>>>>>>>>>> modulo 3: 2\n",
      "8 <> 64 <> 32.0\n",
      "8 , 4.0 <<<<<<< Divide\n",
      "9 <> 81 <> 40.5\n",
      "9 , 4.5 <<<<<<< Divide\n"
     ]
    }
   ],
   "source": [
    "# write a \"for\" loop here:\n",
    "for i in range(0, 10):\n",
    "    if i == 5:\n",
    "        print (\">>>>>>>>>>>>>> it's 5\")\n",
    "    if i % 3:\n",
    "        print (\">>>>>>>>>>>>>>> modulo 3:\" , i % 3)\n",
    "    print (i, \"<>\", i ** 2, \"<>\", i ** 2 / 2)\n",
    "    print (i, \",\", i / 2, \"<<<<<<< Divide\")"
   ]
  },
  {
   "cell_type": "code",
   "execution_count": 65,
   "id": "19c1d36c-2752-498b-ba2a-a131e0b1f178",
   "metadata": {},
   "outputs": [
    {
     "name": "stdout",
     "output_type": "stream",
     "text": [
      "current number:  0\n",
      "modulo 3:  0\n",
      "Squared: 0\n",
      "Halved: 0.0\n",
      ">>>>>>>>>>>>>> End of iteration 0\n",
      "\n",
      "current number:  1\n",
      "modulo 3:  1\n",
      "Squared: 1\n",
      "Halved: 0.5\n",
      ">>>>>>>>>>>>>> End of iteration 1\n",
      "\n",
      "current number:  2\n",
      "modulo 3:  2\n",
      "Squared: 4\n",
      "Halved: 2.0\n",
      ">>>>>>>>>>>>>> End of iteration 2\n",
      "\n",
      "current number:  3\n",
      "modulo 3:  0\n",
      "Squared: 9\n",
      "Halved: 4.5\n",
      ">>>>>>>>>>>>>> End of iteration 3\n",
      "\n",
      "current number:  4\n",
      "modulo 3:  1\n",
      "Squared: 16\n",
      "Halved: 8.0\n",
      ">>>>>>>>>>>>>> End of iteration 4\n",
      "\n",
      "current number:  5\n",
      "it's 5\n",
      "modulo 3:  2\n",
      "Squared: 25\n",
      "Halved: 12.5\n",
      ">>>>>>>>>>>>>> End of iteration 5\n",
      "\n",
      "current number:  6\n",
      "modulo 3:  0\n",
      "Squared: 36\n",
      "Halved: 18.0\n",
      ">>>>>>>>>>>>>> End of iteration 6\n",
      "\n",
      "current number:  7\n",
      "modulo 3:  1\n",
      "Squared: 49\n",
      "Halved: 24.5\n",
      ">>>>>>>>>>>>>> End of iteration 7\n",
      "\n",
      "current number:  8\n",
      "modulo 3:  2\n",
      "Squared: 64\n",
      "Halved: 32.0\n",
      ">>>>>>>>>>>>>> End of iteration 8\n",
      "\n",
      "current number:  9\n",
      "modulo 3:  0\n",
      "Squared: 81\n",
      "Halved: 40.5\n",
      ">>>>>>>>>>>>>> End of iteration 9\n",
      "\n"
     ]
    }
   ],
   "source": [
    "# new version, much better\n",
    "for i in range (0, 10):\n",
    "    print ('current number: ', i)\n",
    "    \n",
    "    if i == 5:\n",
    "        print (\"it's 5\")\n",
    "    \n",
    "    modulo_result = i % 3\n",
    "    print (\"modulo 3: \", modulo_result)\n",
    "    \n",
    "    squared = i ** 2\n",
    "    halved = squared / 2\n",
    "    print(\"Squared:\", squared)\n",
    "    print(\"Halved:\", halved)\n",
    "\n",
    "    print(\">>>>>>>>>>>>>> End of iteration\", i)\n",
    "    print()\n",
    "        \n",
    "    "
   ]
  },
  {
   "cell_type": "code",
   "execution_count": null,
   "id": "5e77c447-c5c0-4c19-9ffe-194b532fe7ec",
   "metadata": {},
   "outputs": [],
   "source": []
  }
 ],
 "metadata": {
  "kernelspec": {
   "display_name": "Python 3 (ipykernel)",
   "language": "python",
   "name": "python3"
  },
  "language_info": {
   "codemirror_mode": {
    "name": "ipython",
    "version": 3
   },
   "file_extension": ".py",
   "mimetype": "text/x-python",
   "name": "python",
   "nbconvert_exporter": "python",
   "pygments_lexer": "ipython3",
   "version": "3.11.4"
  }
 },
 "nbformat": 4,
 "nbformat_minor": 5
}
