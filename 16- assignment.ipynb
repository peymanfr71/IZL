{
 "cells": [
  {
   "cell_type": "code",
   "execution_count": null,
   "id": "023b1c02-67ff-4bb8-ada4-7f5099345622",
   "metadata": {},
   "outputs": [],
   "source": [
    "# assignment-01) \n",
    "# Write code that will open jokes.txt in Jupyter and prints its content."
   ]
  },
  {
   "cell_type": "code",
   "execution_count": 36,
   "id": "7c1db0f5-482d-471e-a74a-f6aa40abc600",
   "metadata": {},
   "outputs": [
    {
     "name": "stdout",
     "output_type": "stream",
     "text": [
      "1) What is a room with no walls? A mushroom.\n",
      "2) Which superhero hits home runs? Batman\n",
      "3) Why are snails slow? Because they are carrying a house on their back.\n"
     ]
    }
   ],
   "source": [
    "# Write your code here!\n",
    "with open ('../izlearn/session-59/data/jokes.txt', mode = 'r') as joke:\n",
    "    print (joke.read(), end = '')"
   ]
  },
  {
   "cell_type": "code",
   "execution_count": null,
   "id": "47c0cfbb-41b0-4e77-8ab4-2bb72f404324",
   "metadata": {},
   "outputs": [],
   "source": [
    "# assignment-02) \n",
    "# Write code that will open the jokes.txt file and count the number of lines inside of it."
   ]
  },
  {
   "cell_type": "code",
   "execution_count": 37,
   "id": "406b8c80-6013-4f11-8d55-f729dced9302",
   "metadata": {},
   "outputs": [
    {
     "name": "stdout",
     "output_type": "stream",
     "text": [
      "There 3 lines in the <jokes.txt>\n"
     ]
    }
   ],
   "source": [
    "# Write your code here!\n",
    "with open('../izlearn/session-59/data/jokes.txt', mode = 'r') as joke:\n",
    "    line_count = sum(1 for _ in joke)\n",
    "print(f'There {line_count} lines in the <jokes.txt>')"
   ]
  },
  {
   "cell_type": "code",
   "execution_count": null,
   "id": "a9aa82b0-7d67-4d63-b156-4132534c2aa9",
   "metadata": {},
   "outputs": [],
   "source": [
    "# assignment-03) \n",
    "# Using the file jokes.txt, find the number of characters in the file and assign that value to the variable num_char."
   ]
  },
  {
   "cell_type": "code",
   "execution_count": 38,
   "id": "7f0152ee-d75b-42dd-950e-c08054381ec3",
   "metadata": {},
   "outputs": [
    {
     "name": "stdout",
     "output_type": "stream",
     "text": [
      "The number of character in the (jokes.txt) is 160.\n"
     ]
    }
   ],
   "source": [
    "with open('../izlearn/session-59/data/jokes.txt', mode = 'r') as num_char:\n",
    "    char_count = 0\n",
    "    for line in num_char:\n",
    "        char_count = char_count + len(line)\n",
    "print(f'The number of character in the (jokes.txt) is {char_count}.')\n"
   ]
  },
  {
   "cell_type": "code",
   "execution_count": null,
   "id": "d246013c-1b08-4dab-a09e-74203f1a3258",
   "metadata": {},
   "outputs": [],
   "source": [
    "# assignment-04) \n",
    "# Using the file jokes.txt, \n",
    "# find that word Batman and replace it with the word Superman and save the new text file with the name of jokes_new.txt."
   ]
  },
  {
   "cell_type": "code",
   "execution_count": 46,
   "id": "510beb51-b6a5-49b7-a6d7-a90dc48eb7a6",
   "metadata": {},
   "outputs": [
    {
     "name": "stdout",
     "output_type": "stream",
     "text": [
      "1) What is a room with no walls? A mushroom.\n",
      "2) Which superhero hits home runs? Superman\n",
      "3) Why are snails slow? Because they are carrying a house on their back.\n"
     ]
    }
   ],
   "source": [
    "with open('../izlearn/session-59/data/jokes.txt', mode = 'r') as joke, open('../izlearn/session-59/data/jokes_new.txt', mode = 'w') as new_joke:\n",
    "    for line in joke:\n",
    "        line = line.replace('Batman', 'Superman')\n",
    "        new_joke.write(line)\n",
    "\n",
    "with open('../izlearn/session-59/data/jokes_new.txt', mode = 'r') as new_joke:\n",
    "    for line in new_joke:\n",
    "        print(line, end = \"\")\n"
   ]
  },
  {
   "cell_type": "code",
   "execution_count": null,
   "id": "934c2d4c-3d25-483c-a6d5-96fd64cf3cad",
   "metadata": {},
   "outputs": [],
   "source": []
  }
 ],
 "metadata": {
  "kernelspec": {
   "display_name": "Python 3 (ipykernel)",
   "language": "python",
   "name": "python3"
  },
  "language_info": {
   "codemirror_mode": {
    "name": "ipython",
    "version": 3
   },
   "file_extension": ".py",
   "mimetype": "text/x-python",
   "name": "python",
   "nbconvert_exporter": "python",
   "pygments_lexer": "ipython3",
   "version": "3.11.4"
  }
 },
 "nbformat": 4,
 "nbformat_minor": 5
}
