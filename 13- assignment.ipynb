{
 "cells": [
  {
   "cell_type": "code",
   "execution_count": 1,
   "id": "9bc3cf71-39ba-4583-a97f-533c419c57d9",
   "metadata": {},
   "outputs": [],
   "source": [
    "# assignment-01) \n",
    "# Write a code to print the shown output:"
   ]
  },
  {
   "cell_type": "code",
   "execution_count": 6,
   "id": "a1f4928f-5c63-44c7-85b4-26c4911ce99d",
   "metadata": {},
   "outputs": [
    {
     "name": "stdout",
     "output_type": "stream",
     "text": [
      "guido van rossum\n",
      "name: Guido\n",
      "middle name: Van\n",
      "surname: Rossum\n"
     ]
    }
   ],
   "source": [
    "# Write your code here:\n",
    "name = \"guido\"\n",
    "middle_name = \"van\"\n",
    "surname = \"rossum\"\n",
    "\n",
    "# start here:\n",
    "print (name + \" \" + middle_name + \" \" + surname)\n",
    "print (\"name:\", name.capitalize())\n",
    "print (\"middle name:\", middle_name.capitalize())\n",
    "print (\"surname:\", surname.capitalize())\n"
   ]
  },
  {
   "cell_type": "code",
   "execution_count": 7,
   "id": "f6013337-8636-41c3-ada6-68f1e31d4534",
   "metadata": {},
   "outputs": [],
   "source": [
    "# assignment-02) \n",
    "# Write a code to print the shown output:\n",
    "# Note: You must use one of the mentioned string method for this exercise."
   ]
  },
  {
   "cell_type": "code",
   "execution_count": 15,
   "id": "3de364b6-cc80-4ad4-94e5-f361ae6969eb",
   "metadata": {},
   "outputs": [
    {
     "name": "stdout",
     "output_type": "stream",
     "text": [
      "PIP means Package Installer for Python.\n"
     ]
    }
   ],
   "source": [
    "# Write your code here:\n",
    "my_pip = \"pip\"\n",
    "meaning = \"means Package Installer for Python.\"\n",
    "# start here:\n",
    "print (my_pip.upper() + \" \" + meaning)"
   ]
  },
  {
   "cell_type": "code",
   "execution_count": null,
   "id": "eb0c9cf1-6185-45b1-8ead-3901465f5152",
   "metadata": {},
   "outputs": [],
   "source": [
    "# assignment-03) \n",
    "# Write a code to print the shown output:\n",
    "# Note: You must use one of the mentioned string method for this exercise.\n",
    "# Note: You probably need to use for loop to iterate over the list."
   ]
  },
  {
   "cell_type": "code",
   "execution_count": 19,
   "id": "5855dff4-c67b-480f-91fe-d69d3d79c109",
   "metadata": {},
   "outputs": [
    {
     "name": "stdout",
     "output_type": "stream",
     "text": [
      "word:  pip\n",
      "word:  cpu\n",
      "word:  ram\n"
     ]
    }
   ],
   "source": [
    "# Write your code here!\n",
    "my_upper_list = [\"PIP\", \"CPU\", \"RAM\"]\n",
    "\n",
    "# start here:\n",
    "for items in my_upper_list:\n",
    "    print (\"word: \", items.lower())"
   ]
  },
  {
   "cell_type": "code",
   "execution_count": null,
   "id": "fe9126d7-c377-4dc7-8b47-d68ab0016824",
   "metadata": {},
   "outputs": [],
   "source": [
    "# assignment-04) \n",
    "# Write a code to search for the word izlearn and print the index of \"z\" character.\n",
    "# Note: You must use one of the mentioned string method for this exercise.\n",
    "# Note: You probably need to use for loop to iterate over the list."
   ]
  },
  {
   "cell_type": "code",
   "execution_count": 29,
   "id": "2cc2ad15-c1ca-4351-b2b8-c765e0f5895a",
   "metadata": {},
   "outputs": [
    {
     "name": "stdout",
     "output_type": "stream",
     "text": [
      "The index of z character in izlearn is: 1\n",
      "I've found my lovely website: izlearn\n"
     ]
    }
   ],
   "source": [
    "# Write your code here:\n",
    "my_word_list = [\"Faradars\", \"Maktabkhooneh\", \"7learn\", \"izlearn\"]\n",
    "\n",
    "# start here:\n",
    "for word in my_word_list:\n",
    "    if \"izlearn\" in word:\n",
    "        index_of_z = word.index(\"z\")\n",
    "        print (\"The index of z character in izlearn is:\", index_of_z)\n",
    "print (\"I've found my lovely website:\", my_word_list[3])"
   ]
  },
  {
   "cell_type": "code",
   "execution_count": 31,
   "id": "2aeb2a34-7a21-481b-aa9f-a09928fbaba7",
   "metadata": {},
   "outputs": [],
   "source": [
    "# assignment-05) \n",
    "# Write a code to search \"my_sentence\" for 't' and 'T' character and print the result as shown below:\n",
    "# Note: You must use one of the mentioned string method for this exercise."
   ]
  },
  {
   "cell_type": "code",
   "execution_count": 38,
   "id": "d3010e32-ab79-477b-9e9f-389914cb883c",
   "metadata": {},
   "outputs": [
    {
     "name": "stdout",
     "output_type": "stream",
     "text": [
      "Hooray! I've found it. The index of 't' is: 24\n",
      "Sorry! your sentence doesn't have 'T'.\n"
     ]
    }
   ],
   "source": [
    "my_sentence = \"Guido van Rossum is a Dutch programmer best known as the creator of Python language.\"\n",
    "\n",
    "if 't' in my_sentence:\n",
    "    index_of_t = my_sentence.index('t')\n",
    "    print(\"Hooray! I've found it. The index of 't' is:\", index_of_t)\n",
    "else:\n",
    "    print(\"Sorry! your sentence doesn't have 't'.\")\n",
    "\n",
    "if 'T' in my_sentence:\n",
    "    index_of_T = my_sentence.index('T')\n",
    "    print(\"Hooray! I've found it. The index of 'T' is:\", index_of_T)\n",
    "else:\n",
    "    print(\"Sorry! your sentence doesn't have 'T'.\")"
   ]
  },
  {
   "cell_type": "code",
   "execution_count": null,
   "id": "bf10788f-2c2f-407b-996a-1673237b0ec8",
   "metadata": {},
   "outputs": [],
   "source": [
    "# assignment-06) \n",
    "# Write a code to split my email address and turn it into two parts based on @ character.\n",
    "# Note: You must use one of the mentioned string methods for this exercise."
   ]
  },
  {
   "cell_type": "code",
   "execution_count": 51,
   "id": "96813e2b-ab89-46e7-a5af-9a3235bf2385",
   "metadata": {},
   "outputs": [
    {
     "name": "stdout",
     "output_type": "stream",
     "text": [
      "My name: ahmad_ahmad\n",
      "My university: kntu.ac.ir\n"
     ]
    }
   ],
   "source": [
    "# Write your code here:\n",
    "ahmad_email = \"ahmad_ahmadi@kntu.ac.ir\"\n",
    "\n",
    "# start here:\n",
    "print (\"My name:\", ahmad_email[:11])\n",
    "print (\"My university:\", ahmad_email[13:])\n"
   ]
  },
  {
   "cell_type": "code",
   "execution_count": null,
   "id": "29055fa6-bdc6-43ca-966d-03795266c3d8",
   "metadata": {},
   "outputs": [],
   "source": [
    "# assignment-07) \n",
    "# Write a code to split \"my_sentence2\" and assign it to my_word_list and search for the word \"proud\" and then uppercase the first character. \n",
    "# Then print the index of its first character.\n",
    "# Note: You must use three of the mentioned string methods for this exercise."
   ]
  },
  {
   "cell_type": "code",
   "execution_count": 61,
   "id": "39395aa6-bf4f-491d-a007-691967facf6a",
   "metadata": {},
   "outputs": [
    {
     "name": "stdout",
     "output_type": "stream",
     "text": [
      "[\"I'm\", 'really', 'proud', 'of', 'you.', 'Because', \"you're\", 'learning', 'Python', 'programming.']\n",
      "proud => Proud\n",
      "5\n"
     ]
    }
   ],
   "source": [
    "# Write your code here:\n",
    "my_sentence2 = \"I'm really proud of you. Because you're learning Python programming.\"\n",
    "\n",
    "# start here:\n",
    "my_word_list = my_sentence2.split()\n",
    "print (my_word_list)\n",
    "print (\"proud =>\", my_word_list[2].capitalize())\n",
    "print (len(my_word_list[2]))\n"
   ]
  },
  {
   "cell_type": "code",
   "execution_count": 75,
   "id": "15cf828d-9705-47de-9b4f-83fa060cae5e",
   "metadata": {},
   "outputs": [],
   "source": [
    "# assignment-08) \n",
    "# converts my_sentence3 into a list then split \"izlearn.ir\" based on. \n",
    "# character and make a new list and append \"www\" into it then using join method try to create izlearn.ir web address:\n",
    "# www.izlearn.ir"
   ]
  },
  {
   "cell_type": "code",
   "execution_count": 76,
   "id": "ee85c372-bdac-475e-b01a-6f1082abc24d",
   "metadata": {},
   "outputs": [
    {
     "name": "stdout",
     "output_type": "stream",
     "text": [
      "Website address is: www.izlearn.ir\n"
     ]
    }
   ],
   "source": [
    "# Write your code here:\n",
    "my_sentence3 = \"How can I start learning Python programming? You can use izlearn.ir\"\n",
    "new_list = my_sentence3.split()\n",
    "website = new_list[-1].split(\".\")\n",
    "website.insert(0, \"www\")\n",
    "website_address = \".\".join(website)\n",
    "print(\"Website address is:\", website_address)"
   ]
  },
  {
   "cell_type": "code",
   "execution_count": 77,
   "id": "b5d4a3a6-50c5-4272-a3f0-aec675593099",
   "metadata": {},
   "outputs": [],
   "source": [
    "# assignment-09) \n",
    "# Write a code to remove all whitespaces from the beginnig and end of the today_date:"
   ]
  },
  {
   "cell_type": "code",
   "execution_count": 79,
   "id": "9e3e13b7-5349-42e7-b43f-12277ca764d0",
   "metadata": {},
   "outputs": [
    {
     "name": "stdout",
     "output_type": "stream",
     "text": [
      "With white spaces:    Today is Monday September 12 2022          \n",
      "Without white spaces: Today is Monday September 12 2022\n"
     ]
    }
   ],
   "source": [
    "# Write your code here:\n",
    "\n",
    "today_date = \"   Today is Monday September 12 2022          \"\n",
    "\n",
    "# Start here:\n",
    "print (\"With white spaces:\", today_date)\n",
    "print (\"Without white spaces:\", today_date.strip())\n"
   ]
  },
  {
   "cell_type": "code",
   "execution_count": 80,
   "id": "41fdc394-64e9-4f70-9aba-bc5a566369d4",
   "metadata": {},
   "outputs": [],
   "source": [
    "# assignment-10) \n",
    "# Write a code to prompt user a string and define whether all of its characters are alphabetic or not ?!"
   ]
  },
  {
   "cell_type": "code",
   "execution_count": 85,
   "id": "5dc3c08d-7344-492f-8ea6-02026eac8462",
   "metadata": {},
   "outputs": [
    {
     "name": "stdin",
     "output_type": "stream",
     "text": [
      "Please enter your number:  2454\n",
      "Please enter your name:  nina\n"
     ]
    },
    {
     "name": "stdout",
     "output_type": "stream",
     "text": [
      "Both inputs are valid: numeric number and alphabetic name.\n"
     ]
    }
   ],
   "source": [
    "userNumber = input('Please enter your number: ')\n",
    "userName = input('Please enter your name: ')\n",
    "\n",
    "if userNumber.isalnum() and userName.isalpha():\n",
    "    print(\"Both inputs are valid: numeric number and alphabetic name.\")\n",
    "elif userNumber.isalnum():\n",
    "    print(\"The input for number is valid: numeric number.\")\n",
    "elif userName.isalpha():\n",
    "    print(\"The input for name is valid: alphabetic name.\")\n",
    "else:\n",
    "    print(\"Both inputs are invalid.\")\n"
   ]
  },
  {
   "cell_type": "code",
   "execution_count": null,
   "id": "1af1a3d8-87ab-4edd-8393-d0b06930fadc",
   "metadata": {},
   "outputs": [],
   "source": []
  }
 ],
 "metadata": {
  "kernelspec": {
   "display_name": "Python 3 (ipykernel)",
   "language": "python",
   "name": "python3"
  },
  "language_info": {
   "codemirror_mode": {
    "name": "ipython",
    "version": 3
   },
   "file_extension": ".py",
   "mimetype": "text/x-python",
   "name": "python",
   "nbconvert_exporter": "python",
   "pygments_lexer": "ipython3",
   "version": "3.11.4"
  }
 },
 "nbformat": 4,
 "nbformat_minor": 5
}
