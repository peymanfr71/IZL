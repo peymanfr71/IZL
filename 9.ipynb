{
 "cells": [
  {
   "cell_type": "markdown",
   "id": "9645867f",
   "metadata": {},
   "source": [
    "<div class=\"alert alert-success\">\n",
    "    <center><strong>🙂Find your joy.</strong></center>\n",
    "</div>"
   ]
  },
  {
   "cell_type": "code",
   "execution_count": 2,
   "id": "9649f68a",
   "metadata": {},
   "outputs": [
    {
     "name": "stdout",
     "output_type": "stream",
     "text": [
      "['Shafagh , Arefe']\n",
      "<class 'list'>\n"
     ]
    }
   ],
   "source": [
    "# condition (1):\n",
    "# string + string\n",
    "\n",
    "names = [\"Shafagh , Arefe\"]  # -> concatenation: \"Shafagh\" + \"Arefeh\"\n",
    "print (names)\n",
    "print (type(names))"
   ]
  },
  {
   "cell_type": "code",
   "execution_count": 3,
   "id": "bf48eb54",
   "metadata": {},
   "outputs": [
    {
     "name": "stdout",
     "output_type": "stream",
     "text": [
      "5\n"
     ]
    }
   ],
   "source": [
    "# condition (2):\n",
    "# numbers\n",
    "\n",
    "numbers = [4, 5, 10]\n",
    "print(numbers[1])"
   ]
  },
  {
   "cell_type": "code",
   "execution_count": 4,
   "id": "344f54f6",
   "metadata": {},
   "outputs": [
    {
     "name": "stdout",
     "output_type": "stream",
     "text": [
      "27\n"
     ]
    }
   ],
   "source": [
    "# condition (3):\n",
    "# string + number\n",
    "\n",
    "mixed = [\"Mohsen\", 27]\n",
    "print (mixed[1])"
   ]
  },
  {
   "cell_type": "code",
   "execution_count": 5,
   "id": "a90cff24",
   "metadata": {},
   "outputs": [
    {
     "name": "stdout",
     "output_type": "stream",
     "text": [
      "<class 'list'>\n",
      "[]\n",
      "<class 'list'>\n",
      "[]\n"
     ]
    }
   ],
   "source": [
    "# ex-37-01) define an empty list:\n",
    "\n",
    "# method one:\n",
    "my_list1 = []\n",
    "print(type(my_list1))\n",
    "print(my_list1)\n",
    "\n",
    "# method two:\n",
    "my_list2 = list()\n",
    "print(type(my_list2))\n",
    "print(my_list2)"
   ]
  },
  {
   "cell_type": "code",
   "execution_count": 6,
   "id": "010837cb",
   "metadata": {},
   "outputs": [
    {
     "name": "stdout",
     "output_type": "stream",
     "text": [
      "['Ali', 'Mohsen', 'Salar', 'Shafagh', 'Sepideh']\n"
     ]
    }
   ],
   "source": [
    "# ex-37-02) define a list of your friends name, then print:\n",
    "\n",
    "my_friends = [\"Ali\", \"Mohsen\", \"Salar\", \"Shafagh\", \"Sepideh\"]\n",
    "print(my_friends)"
   ]
  },
  {
   "cell_type": "code",
   "execution_count": 7,
   "id": "345c43c8",
   "metadata": {},
   "outputs": [
    {
     "name": "stdout",
     "output_type": "stream",
     "text": [
      "['Mohsen', 27, 'Salar', 26]\n"
     ]
    }
   ],
   "source": [
    "# ex-37-03) define a list of your friends name and their age, then print:\n",
    "\n",
    "my_friends_age = [\"Mohsen\", 27, \"Salar\", 26]\n",
    "print(my_friends_age)"
   ]
  },
  {
   "cell_type": "code",
   "execution_count": 8,
   "id": "c9612850",
   "metadata": {},
   "outputs": [
    {
     "name": "stdout",
     "output_type": "stream",
     "text": [
      "Salar\n"
     ]
    }
   ],
   "source": [
    "# ex-37-04) print out \"Salar\" from my_friends list:\n",
    "\n",
    "print(my_friends[2])  # => python is zero-index language!!"
   ]
  },
  {
   "cell_type": "code",
   "execution_count": 9,
   "id": "4b5f0d63",
   "metadata": {},
   "outputs": [
    {
     "name": "stdout",
     "output_type": "stream",
     "text": [
      "all ages: 53\n"
     ]
    }
   ],
   "source": [
    "# ex-37-05) calculate the sum of all ages in my_friends_age and print the result:\n",
    "\n",
    "all_ages = my_friends_age[1] + my_friends_age[3]\n",
    "print(\"all ages:\", all_ages)"
   ]
  },
  {
   "cell_type": "code",
   "execution_count": 10,
   "id": "986c81ff-724d-413e-b731-e68f35119b1b",
   "metadata": {},
   "outputs": [
    {
     "name": "stdout",
     "output_type": "stream",
     "text": [
      "['Ali', 'Mohsen', 'Salar', 'Shafagh', 'Sepideh', 'kambiz']\n"
     ]
    }
   ],
   "source": [
    "new_name = \"kambiz\"\n",
    "my_friends.append (new_name)\n",
    "print (my_friends)"
   ]
  },
  {
   "cell_type": "code",
   "execution_count": 11,
   "id": "b6a2fa56-2a41-4eea-bd26-91d4831e26cc",
   "metadata": {},
   "outputs": [
    {
     "name": "stdout",
     "output_type": "stream",
     "text": [
      "['Ali', 'Dara', 'Mohsen', 'Salar', 'Shafagh', 'Sepideh', 'kambiz']\n"
     ]
    }
   ],
   "source": [
    "new_name = \"Dara\"\n",
    "my_friends.insert(1, new_name) #insert (position, value)\n",
    "print (my_friends)"
   ]
  },
  {
   "cell_type": "code",
   "execution_count": 12,
   "id": "4233acdf",
   "metadata": {},
   "outputs": [
    {
     "name": "stdout",
     "output_type": "stream",
     "text": [
      "original: ['Ali', 'Dara', 'Mohsen', 'Salar', 'Shafagh', 'Sepideh', 'kambiz']\n",
      "changed: ['Ali', 'Dara', 'Saeid', 'Salar', 'Shafagh', 'Sepideh', 'kambiz']\n"
     ]
    }
   ],
   "source": [
    "# ex-37-06) replace \"Salar\" with \"Navid\" in my_friends list and print the result:\n",
    "# what is this called? --> reassign\n",
    "print(\"original:\", my_friends)\n",
    "\n",
    "my_friends[2] = \"Saeid\"\n",
    "print(\"changed:\", my_friends)"
   ]
  },
  {
   "cell_type": "code",
   "execution_count": 13,
   "id": "ddfca79a-db2a-43ff-845e-abbde7e333b3",
   "metadata": {},
   "outputs": [
    {
     "name": "stdout",
     "output_type": "stream",
     "text": [
      "original: ['Ali', 'Dara', 'Saeid', 'Salar', 'Shafagh', 'Sepideh', 'kambiz']\n",
      "changed: ['Ali', 'Dara', 'Saeid', 'Salar', 'Shafagh', 'Sepideh', 'Mansour']\n"
     ]
    }
   ],
   "source": [
    "# What will happen if I write my_friends[-1]? why?\n",
    "\n",
    "print(\"original:\", my_friends)\n",
    "\n",
    "my_friends[-1] = \"Mansour\"\n",
    "print(\"changed:\", my_friends)"
   ]
  },
  {
   "cell_type": "code",
   "execution_count": 14,
   "id": "32bfbbe5",
   "metadata": {},
   "outputs": [
    {
     "name": "stdout",
     "output_type": "stream",
     "text": [
      "['Ali', 'Dara', 'Saeid', 'Salar', 'Shafagh', 'Sepideh', 'Mansour']\n",
      "\n",
      "\n",
      "['Ali', 'Dara', 'Saeid']\n",
      "['Shafagh', 'Sepideh']\n",
      "['Ali', 'Dara', 'Saeid']\n",
      "['Ali', 'Dara', 'Saeid', 'Salar', 'Shafagh', 'Sepideh', 'Mansour']\n",
      "['Mansour', 'Sepideh', 'Shafagh', 'Salar', 'Saeid', 'Dara', 'Ali']\n",
      "7\n"
     ]
    }
   ],
   "source": [
    "# ex-38-07) do all kinds of list slicing:\n",
    "# slicing: [start:stop:step(optional)]\n",
    "\n",
    "print(my_friends)\n",
    "print(\"\\n\")\n",
    "print(my_friends[0:3])\n",
    "print(my_friends[4:6])\n",
    "print(my_friends[:3])\n",
    "print(my_friends[:])\n",
    "print(my_friends[::-1])\n",
    "print(len(my_friends))\n"
   ]
  },
  {
   "cell_type": "code",
   "execution_count": 15,
   "id": "0d82420e-1a56-44ef-a9de-13b5a5874b4f",
   "metadata": {},
   "outputs": [
    {
     "name": "stdout",
     "output_type": "stream",
     "text": [
      "0: Ali\n",
      "1: Dara\n",
      "2: Saeid\n",
      "3: Salar\n",
      "4: Shafagh\n",
      "5: Sepideh\n",
      "6: Mansour\n"
     ]
    }
   ],
   "source": [
    "for index, value in enumerate(my_friends):\n",
    "    print(f\"{index}: {value}\")"
   ]
  },
  {
   "cell_type": "markdown",
   "id": "737d536f",
   "metadata": {},
   "source": [
    "<center>\n",
    "<div class=\"alert alert-danger\">\n",
    "    <strong>👉 Note:</strong> The last index is <um>not included!</um>\n",
    "</div>\n",
    "</center>"
   ]
  },
  {
   "cell_type": "code",
   "execution_count": 16,
   "id": "dac310f5",
   "metadata": {},
   "outputs": [
    {
     "name": "stdout",
     "output_type": "stream",
     "text": [
      "['Ali', 'Dara', 'Saeid', 'Salar', 'Shafagh', 'Sepideh', 'Mansour', 'Arefeh']\n"
     ]
    }
   ],
   "source": [
    "# ex-38-08) add \"Arefeh\" to my_friends list, then print:\n",
    "# Attention: \"append\" method modifies the original list.\n",
    "my_friends.append (\"Arefeh\")\n",
    "print(my_friends)"
   ]
  },
  {
   "cell_type": "code",
   "execution_count": 20,
   "id": "381081d3",
   "metadata": {},
   "outputs": [
    {
     "name": "stdout",
     "output_type": "stream",
     "text": [
      "['Saeid', 'Salar', 'Shafagh', 'Sepideh', 'Mansour', 'Arefeh']\n",
      "6\n"
     ]
    }
   ],
   "source": [
    "# ex-38-09) remove \"Ali\" from my_friends list, then print:\n",
    "# Attention: \"pop\" method modifies the original list.\n",
    "my_friends.pop(0)\n",
    "print(my_friends)\n",
    "print(len(my_friends))"
   ]
  },
  {
   "cell_type": "code",
   "execution_count": 21,
   "id": "52987968",
   "metadata": {},
   "outputs": [
    {
     "name": "stdout",
     "output_type": "stream",
     "text": [
      "[-100, 0, 4, 5, 10, 35]\n",
      "['Arefeh', 'Erfan', 'Mohsen', 'Sahand', 'Salar', 'Sepideh']\n"
     ]
    }
   ],
   "source": [
    "# ex-38-10) define two new lists and sort them.\n",
    "# Attention: \"sort\" method modifies the original list.\n",
    "\n",
    "list1 = [4, 10 ,35, -100, 0, 5]\n",
    "list2 = [\"Mohsen\", \"Erfan\", \"Salar\", \"Sepideh\", \"Arefeh\", \"Sahand\"]\n",
    "\n",
    "list1.sort()\n",
    "list2.sort()\n",
    "\n",
    "print(list1)\n",
    "print(list2)"
   ]
  },
  {
   "cell_type": "code",
   "execution_count": 27,
   "id": "21d8d359",
   "metadata": {},
   "outputs": [
    {
     "name": "stdout",
     "output_type": "stream",
     "text": [
      "friends: Saeid\n",
      "friends: Salar\n",
      "friends: Shafagh\n",
      "friends: Sepideh\n",
      "friends: Mansour\n",
      "friends: Arefeh\n"
     ]
    }
   ],
   "source": [
    "# ex-38-11) iterate over my_friends list and print each item:\n",
    "# list are iterable.\n",
    "\n",
    "for friend in my_friends:\n",
    "    print(\"friends:\", friend)"
   ]
  }
 ],
 "metadata": {
  "kernelspec": {
   "display_name": "Python 3 (ipykernel)",
   "language": "python",
   "name": "python3"
  },
  "language_info": {
   "codemirror_mode": {
    "name": "ipython",
    "version": 3
   },
   "file_extension": ".py",
   "mimetype": "text/x-python",
   "name": "python",
   "nbconvert_exporter": "python",
   "pygments_lexer": "ipython3",
   "version": "3.11.4"
  }
 },
 "nbformat": 4,
 "nbformat_minor": 5
}
