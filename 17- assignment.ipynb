{
 "cells": [
  {
   "cell_type": "code",
   "execution_count": null,
   "id": "81b216f5-d05d-45fd-944c-aedf933f7592",
   "metadata": {},
   "outputs": [],
   "source": [
    "# assignment-01) \n",
    "# Write a program that prompts the user for a file name, \n",
    "# then opens that file and reads through the file, \n",
    "# and prints the contents of the file in uppercase. \n",
    "# Use the file words.txt to produce the output."
   ]
  },
  {
   "cell_type": "code",
   "execution_count": null,
   "id": "2a831988-28c7-4ac9-9a37-94397ddd2a64",
   "metadata": {},
   "outputs": [],
   "source": []
  }
 ],
 "metadata": {
  "kernelspec": {
   "display_name": "Python 3 (ipykernel)",
   "language": "python",
   "name": "python3"
  },
  "language_info": {
   "codemirror_mode": {
    "name": "ipython",
    "version": 3
   },
   "file_extension": ".py",
   "mimetype": "text/x-python",
   "name": "python",
   "nbconvert_exporter": "python",
   "pygments_lexer": "ipython3",
   "version": "3.11.4"
  }
 },
 "nbformat": 4,
 "nbformat_minor": 5
}
