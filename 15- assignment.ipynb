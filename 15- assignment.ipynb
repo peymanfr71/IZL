{
 "cells": [
  {
   "cell_type": "code",
   "execution_count": 1,
   "id": "b51e2926-e1f4-4c30-a745-745acdf4283e",
   "metadata": {},
   "outputs": [],
   "source": [
    "# 01) Write a function name num_test that takes a number as input.\n",
    "# If the number is greater thatn 10, the function should return Greater than 10.\n",
    "# If the number is less than 10, the function should return Less than 10.\n",
    "# If the number is equal to 10, the function should return Equal to 10."
   ]
  },
  {
   "cell_type": "code",
   "execution_count": 2,
   "id": "1b557c63-c116-4769-881e-243833412598",
   "metadata": {},
   "outputs": [
    {
     "name": "stdin",
     "output_type": "stream",
     "text": [
      "Enter your first number:  5\n"
     ]
    },
    {
     "name": "stdout",
     "output_type": "stream",
     "text": [
      "The number 5 is Less than 10.\n"
     ]
    }
   ],
   "source": [
    "def num_test(number):\n",
    "    if number > 10:\n",
    "        return 'Greater than 10'\n",
    "    elif number < 10:\n",
    "        return \"Less than 10.\"\n",
    "    elif number == 10:\n",
    "        return \"Equal to 10.\"\n",
    "        \n",
    "num1 = int(input('Enter your first number: '))\n",
    "# num2 = int(input('Enter your second number: '))\n",
    "# num3 = int(input('Enter your third number: '))\n",
    "print(f\"The number {num1} is {num_test(num1)}\")\n",
    "# print(f\"The number {num2} is {num_test(num2)}\")\n",
    "# print(f\"The number {num3} is {num_test(num3)}\")"
   ]
  },
  {
   "cell_type": "code",
   "execution_count": 3,
   "id": "5c3d5b3a-1e7e-4acc-afcf-f015f7a89bcc",
   "metadata": {},
   "outputs": [],
   "source": [
    "# 02) Write a function that will return the number of digits in an integer."
   ]
  },
  {
   "cell_type": "code",
   "execution_count": 19,
   "id": "06b1527d-805f-4521-93bd-9050d4b8b21d",
   "metadata": {},
   "outputs": [
    {
     "name": "stdin",
     "output_type": "stream",
     "text": [
      "Enter your first number:  52526\n"
     ]
    },
    {
     "name": "stdout",
     "output_type": "stream",
     "text": [
      "Greater than 10. The number of digits for 52526 is 5.\n"
     ]
    }
   ],
   "source": [
    "def num_test(number):\n",
    "    if number > 10:\n",
    "        return f\"Greater than 10. The number of digits for {number} is {len(str(number))}.\"\n",
    "    elif number < 10:\n",
    "        return f\"Less than 10. The number of digits for {number} is {len(str(number))}.\"\n",
    "    elif number == 10:\n",
    "        return f\"Equal to 10. The number of digits for {number} is {len(str(number))}.\"\n",
    "\n",
    "num1 = int(input('Enter your first number: '))\n",
    "print(num_test(num1))\n"
   ]
  },
  {
   "cell_type": "code",
   "execution_count": 20,
   "id": "022e29d0-bdf1-49f1-a3db-e0aa9e72a98f",
   "metadata": {},
   "outputs": [],
   "source": [
    "# 03) Write a function that reverses its string argument."
   ]
  },
  {
   "cell_type": "code",
   "execution_count": 21,
   "id": "18d4e0f8-727b-4bc5-978d-3ee1491495b3",
   "metadata": {},
   "outputs": [
    {
     "name": "stdin",
     "output_type": "stream",
     "text": [
      "your word:  nimbooos\n"
     ]
    },
    {
     "name": "stdout",
     "output_type": "stream",
     "text": [
      "sooobmin\n"
     ]
    }
   ],
   "source": [
    "# # method 1:\n",
    "# def reverse_str(input_str):\n",
    "#     return input_str[::-1]\n",
    "\n",
    "# str1 = (input('your word: '))\n",
    "# print(reverse_str(str1))\n",
    "\n",
    "# method 2\n",
    "def reverse_str(input_str):\n",
    "    revstr = ''\n",
    "    for string in input_str:\n",
    "        revstr = string + revstr\n",
    "    return revstr\n",
    "str1 = (input('your word: '))\n",
    "print(reverse_str(str1))"
   ]
  },
  {
   "cell_type": "code",
   "execution_count": 22,
   "id": "ca448d90-f13d-4319-99db-e6853d648e47",
   "metadata": {},
   "outputs": [],
   "source": [
    "# 04) Write a function that removes all occurances of a given letter from a string."
   ]
  },
  {
   "cell_type": "code",
   "execution_count": 23,
   "id": "76ba11db-0b6b-411d-8df3-5f5a925d0c80",
   "metadata": {},
   "outputs": [
    {
     "name": "stdin",
     "output_type": "stream",
     "text": [
      "Enter your word:  playstation\n",
      "Enter the letter you want to remove:  t\n"
     ]
    },
    {
     "name": "stdout",
     "output_type": "stream",
     "text": [
      "playsaion\n"
     ]
    }
   ],
   "source": [
    "def letter_remove(input_str, letter):\n",
    "    return input_str.replace(letter, '')\n",
    "\n",
    "str1 = input('Enter your word: ')\n",
    "letter_to_remove = input('Enter the letter you want to remove: ')\n",
    "result = letter_remove(str1, letter_to_remove)\n",
    "print(result)"
   ]
  },
  {
   "cell_type": "code",
   "execution_count": 24,
   "id": "170b34e4-15ab-4514-9816-4b95fb314add",
   "metadata": {},
   "outputs": [],
   "source": [
    "# 05) Write a function named sum_of_squares(a_list) \n",
    "# that computes the sum of the squares of the numbers in the list a_list.\n",
    "# For example, sum_of_squares([2, 3, 4]) should return 4 + 9 + 16 which is 29."
   ]
  },
  {
   "cell_type": "code",
   "execution_count": 27,
   "id": "75824f31-5b73-4962-858f-745f023ed466",
   "metadata": {},
   "outputs": [
    {
     "name": "stdout",
     "output_type": "stream",
     "text": [
      "Sum of squares: 29\n"
     ]
    }
   ],
   "source": [
    "def sum_of_squares(a_list=[2, 3, 4]):\n",
    "    return sum([num ** 2 for num in a_list])\n",
    "\n",
    "result = sum_of_squares()\n",
    "print(\"Sum of squares:\", result)\n"
   ]
  },
  {
   "cell_type": "code",
   "execution_count": 28,
   "id": "a4c4fe1d-970d-49de-9cef-26d7b4b7cdd1",
   "metadata": {},
   "outputs": [
    {
     "name": "stdout",
     "output_type": "stream",
     "text": [
      "Sum to the power: 287\n"
     ]
    }
   ],
   "source": [
    "def sum_pow(a_list=[2, 3, 4]):\n",
    "    return sum([num ** num for num in a_list])\n",
    "\n",
    "result = sum_pow()\n",
    "print(\"Sum to the power:\", result)\n"
   ]
  },
  {
   "cell_type": "code",
   "execution_count": 29,
   "id": "3bb5f510-0bf0-4e64-8c11-b3956611f86a",
   "metadata": {},
   "outputs": [],
   "source": [
    " # 06) Write a function to count odd numbers in a list."
   ]
  },
  {
   "cell_type": "code",
   "execution_count": 30,
   "id": "54cad0d4-0eb8-4f60-87a0-5f02d11132ca",
   "metadata": {},
   "outputs": [
    {
     "name": "stdout",
     "output_type": "stream",
     "text": [
      "There are 3 odd numbers in [3, 5, 51, 6] .\n"
     ]
    }
   ],
   "source": [
    "def odd_counter(my_list):\n",
    "    count = 0\n",
    "    for number in my_list:\n",
    "        if number % 2 != 0:\n",
    "            count = count + 1\n",
    "    return count\n",
    "\n",
    "my_numbers = [3, 5, 51, 6]\n",
    "result = odd_counter(my_numbers)\n",
    "print(\"There are\", result, \"odd numbers in\", my_numbers, \".\")"
   ]
  },
  {
   "cell_type": "code",
   "execution_count": 31,
   "id": "8d620713-5b4d-47ed-8932-80bab4420360",
   "metadata": {},
   "outputs": [],
   "source": [
    "# 07) Write a function to sum up all even numbers in a list."
   ]
  },
  {
   "cell_type": "code",
   "execution_count": 32,
   "id": "abdf61a8-927b-441e-a41a-221913205cd6",
   "metadata": {},
   "outputs": [
    {
     "name": "stdout",
     "output_type": "stream",
     "text": [
      "for the list [5, 10, 2, 20], summing up all even numbers is 32\n"
     ]
    }
   ],
   "source": [
    "def addup_even(c_list):\n",
    "    total_sum = 0\n",
    "    for num in c_list:\n",
    "        if num % 2 == 0:\n",
    "            total_sum = total_sum + num \n",
    "    return total_sum\n",
    "my_numbers = [5, 10, 2, 20]\n",
    "result = addup_even(my_numbers)\n",
    "print(f'for the list {my_numbers}, summing up all even numbers is {result}')"
   ]
  },
  {
   "cell_type": "code",
   "execution_count": 33,
   "id": "25e75ae9-767f-4586-bff0-76454576272e",
   "metadata": {},
   "outputs": [],
   "source": [
    "# 08) Write a function named findHypot. \n",
    "# The function will be given the length of two sides of a right-angled triangle and it should return the length of the hypotenuse\n",
    "# Hint: x ** 0.5will return the square root, or use sqrt from the math module)"
   ]
  },
  {
   "cell_type": "code",
   "execution_count": 35,
   "id": "2ed0c32f-d8ba-41f2-bcf5-00373032a8c4",
   "metadata": {},
   "outputs": [
    {
     "name": "stdout",
     "output_type": "stream",
     "text": [
      "The hypotenuse of this trinagle is 5.0.\n",
      "The hypotenuse of this triangle is 10.0.\n"
     ]
    }
   ],
   "source": [
    "def findHypot(side1, side2):\n",
    "    hypotenuse = (side1 ** 2 + side2 ** 2) ** 0.5\n",
    "    return hypotenuse\n",
    "\n",
    "triangle1 = findHypot(3, 4)\n",
    "triangle2 = findHypot(6, 8)\n",
    "\n",
    "print(f'The hypotenuse of this trinagle is {triangle1}.')\n",
    "print(f'The hypotenuse of this triangle is {triangle2}.')\n"
   ]
  },
  {
   "cell_type": "code",
   "execution_count": 36,
   "id": "c3e0e3a1-c40e-418e-8a25-39ab3265a9b2",
   "metadata": {},
   "outputs": [],
   "source": [
    "# Write a function is_rightangled which, given the length of three sides of a triangle, will determine whether the triangle is right-angled. \n",
    "# Assume that the third argument to the function is the always the longest side. \n",
    "# It will return True if the triangle is right-angled, or False otherwise."
   ]
  },
  {
   "cell_type": "code",
   "execution_count": 37,
   "id": "2e8a2415-4f9b-4bac-9358-3a8cd29624df",
   "metadata": {},
   "outputs": [
    {
     "name": "stdout",
     "output_type": "stream",
     "text": [
      "True\n",
      "False\n"
     ]
    }
   ],
   "source": [
    "def is_rightangled(a, b, longest_side):\n",
    "    return a ** 2 + b ** 2 == longest_side ** 2\n",
    "\n",
    "print(is_rightangled(3, 4, 5))\n",
    "print(is_rightangled(3, 4, 7))"
   ]
  },
  {
   "cell_type": "code",
   "execution_count": 38,
   "id": "a4cd00a1-d988-4630-a9bc-0c0726161b57",
   "metadata": {},
   "outputs": [
    {
     "name": "stdout",
     "output_type": "stream",
     "text": [
      "33,554,432\n"
     ]
    }
   ],
   "source": [
    "# 9\n",
    "def exp(a, b):\n",
    "    cal = a ** b\n",
    "    return cal\n",
    "\n",
    "result = exp(2, 25)\n",
    "formatted_result = '{:,}'.format(result)\n",
    "print(formatted_result)"
   ]
  },
  {
   "cell_type": "code",
   "execution_count": 39,
   "id": "f2274180-c4e0-4ddf-8163-a1ab27830912",
   "metadata": {},
   "outputs": [
    {
     "name": "stdin",
     "output_type": "stream",
     "text": [
      "Enter your number:  5218\n"
     ]
    },
    {
     "name": "stdout",
     "output_type": "stream",
     "text": [
      "The number 5218 is Even\n"
     ]
    }
   ],
   "source": [
    "def check_even_odd(number):\n",
    "    if number % 2 == 0:\n",
    "        return \"Even\"\n",
    "    else:\n",
    "        return \"Odd\"\n",
    "\n",
    "# Example usage\n",
    "input_number = int(input('Enter your number: '))\n",
    "result = check_even_odd(input_number)\n",
    "print(f\"The number {input_number} is {result}\")\n"
   ]
  },
  {
   "cell_type": "code",
   "execution_count": 40,
   "id": "c8e0e8cd-a656-4ea1-8329-a55339264072",
   "metadata": {},
   "outputs": [
    {
     "name": "stdin",
     "output_type": "stream",
     "text": [
      "Enter your number:  55882\n"
     ]
    },
    {
     "name": "stdout",
     "output_type": "stream",
     "text": [
      "The square of 55882 is 3122797924\n"
     ]
    }
   ],
   "source": [
    "def calculate_square(number):\n",
    "    square = number ** 2\n",
    "    return square\n",
    "\n",
    "# Example usage\n",
    "input_number = int(input('Enter your number: '))\n",
    "result = calculate_square(input_number)\n",
    "print(f\"The square of {input_number} is {result}\")\n"
   ]
  },
  {
   "cell_type": "code",
   "execution_count": 50,
   "id": "044c2c7e-46a1-4ad4-a944-4a88aa5d90e8",
   "metadata": {},
   "outputs": [
    {
     "name": "stdin",
     "output_type": "stream",
     "text": [
      "enter your string:  izlearn\n"
     ]
    },
    {
     "name": "stdout",
     "output_type": "stream",
     "text": [
      "i z l e a r n "
     ]
    }
   ],
   "source": [
    "str = input('enter your string: ') \n",
    "for x in str:\n",
    "    print (x, end = \" \")"
   ]
  },
  {
   "cell_type": "code",
   "execution_count": 60,
   "id": "61dddc3d-2e78-4668-b377-e8a9f5eece81",
   "metadata": {},
   "outputs": [
    {
     "name": "stdin",
     "output_type": "stream",
     "text": [
      "enter your word:  nima\n",
      "enter your numbers:  50\n"
     ]
    },
    {
     "name": "stdout",
     "output_type": "stream",
     "text": [
      "nimanimanimanimanimanimanimanimanimanimanimanimanimanimanimanimanimanimanimanimanimanimanimanimanimanimanimanimanimanimanimanimanimanimanimanimanimanimanimanimanimanimanimanimanimanimanimanimanimanima\n"
     ]
    }
   ],
   "source": [
    "str = input('enter your word: ')\n",
    "num = int(input('enter your numbers: '))\n",
    "print (str * num)"
   ]
  },
  {
   "cell_type": "code",
   "execution_count": 61,
   "id": "059ff7f6-0ff6-4a30-a5a1-a762f23ae8e5",
   "metadata": {},
   "outputs": [
    {
     "name": "stdin",
     "output_type": "stream",
     "text": [
      "Enter your word:  mino\n",
      "Enter the number of repetitions:  50\n"
     ]
    },
    {
     "name": "stdout",
     "output_type": "stream",
     "text": [
      "mino mino mino mino mino mino mino mino mino mino mino mino mino mino mino mino mino mino mino mino mino mino mino mino mino mino mino mino mino mino mino mino mino mino mino mino mino mino mino mino mino mino mino mino mino mino mino mino mino mino \n"
     ]
    }
   ],
   "source": [
    "word = input('Enter your word: ')\n",
    "num = int(input('Enter the number of repetitions: '))\n",
    "\n",
    "result = (word + ' ') * num\n",
    "print(result)"
   ]
  },
  {
   "cell_type": "code",
   "execution_count": 19,
   "id": "fde51f91-0afe-4016-8bc3-a87eccc2bebc",
   "metadata": {},
   "outputs": [
    {
     "name": "stdout",
     "output_type": "stream",
     "text": [
      "h not found in toyota\n",
      "unction\n"
     ]
    }
   ],
   "source": [
    "def letter_remove_ver2(a_letter, a_str):\n",
    "    if a_letter in a_str:\n",
    "        for char in a_str:\n",
    "            if char == a_letter:\n",
    "                newstr = a_str.replace(char, \"\")\n",
    "                return newstr\n",
    "    else:\n",
    "        return (f'{a_letter} not found in {a_str}')\n",
    "\n",
    "print (letter_remove_ver2('h', 'toyota'))\n",
    "print (letter_remove_ver2('f', 'function'))"
   ]
  },
  {
   "cell_type": "code",
   "execution_count": null,
   "id": "a6b7b77a-8e51-4728-9acb-0afdbf836b7f",
   "metadata": {},
   "outputs": [],
   "source": []
  }
 ],
 "metadata": {
  "kernelspec": {
   "display_name": "Python 3 (ipykernel)",
   "language": "python",
   "name": "python3"
  },
  "language_info": {
   "codemirror_mode": {
    "name": "ipython",
    "version": 3
   },
   "file_extension": ".py",
   "mimetype": "text/x-python",
   "name": "python",
   "nbconvert_exporter": "python",
   "pygments_lexer": "ipython3",
   "version": "3.11.4"
  }
 },
 "nbformat": 4,
 "nbformat_minor": 5
}
