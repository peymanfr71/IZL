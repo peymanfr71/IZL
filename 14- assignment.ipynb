{
 "cells": [
  {
   "cell_type": "code",
   "execution_count": 1,
   "id": "97cf66e4-3949-4588-81d7-cb5d52ae765a",
   "metadata": {},
   "outputs": [],
   "source": [
    "# assignment-01) \n",
    "# Run this piece of code and try to handle the error with try & except blocks."
   ]
  },
  {
   "cell_type": "code",
   "execution_count": 3,
   "id": "bc4f46dd-b807-469f-836b-499dd4d7a0c7",
   "metadata": {},
   "outputs": [
    {
     "name": "stdin",
     "output_type": "stream",
     "text": [
      "Enter number1:  5\n",
      "Enter number2:  5.5\n"
     ]
    },
    {
     "name": "stdout",
     "output_type": "stream",
     "text": [
      "Type conversion needed!\n",
      "Finished!\n"
     ]
    }
   ],
   "source": [
    "number1 = input(\"Enter number1: \")\n",
    "number2 = input(\"Enter number2: \")\n",
    "\n",
    "try:\n",
    "    number1 = int(number1)\n",
    "    number2 = int(number2)\n",
    "    subtraction = number2 - number1\n",
    "except ValueError:\n",
    "    print(\"Type conversion needed!\")\n",
    "else:\n",
    "    print(\"Subtraction:\", subtraction)\n",
    "print('Finished!')\n"
   ]
  },
  {
   "cell_type": "code",
   "execution_count": 1,
   "id": "8c8c457a-fd3f-468c-bc04-9c25b6ebbb91",
   "metadata": {},
   "outputs": [],
   "source": [
    "# 01) Write a function named greeting that prints the string Hello buddy!."
   ]
  },
  {
   "cell_type": "code",
   "execution_count": 31,
   "id": "1b58b501-9ecc-4f65-b61c-71f2a1ab30c2",
   "metadata": {},
   "outputs": [
    {
     "name": "stdout",
     "output_type": "stream",
     "text": [
      "Hello Buddy!\n"
     ]
    }
   ],
   "source": [
    "def greeting():\n",
    "    return \"Hello Buddy!\"\n",
    "print (greeting())"
   ]
  },
  {
   "cell_type": "code",
   "execution_count": 33,
   "id": "61630666-57ea-4f4a-9685-34d4d0f565f0",
   "metadata": {},
   "outputs": [],
   "source": [
    "# 02) Write a function named subtract_three that subtracts 3 from 10 and *returns* its result.\n",
    "# in the next step store the result in the new variable called final and print the result like this: 10 - 3 = 7"
   ]
  },
  {
   "cell_type": "code",
   "execution_count": 34,
   "id": "c3eae5f5-dfaa-4f64-a917-d5e8b445b815",
   "metadata": {},
   "outputs": [
    {
     "name": "stdout",
     "output_type": "stream",
     "text": [
      "0.3\n",
      "10 - 3 = 7\n"
     ]
    }
   ],
   "source": [
    "def subtract_three():\n",
    "    subtracts = 3 / 10\n",
    "    result = subtracts\n",
    "    final = 10 - 3\n",
    "    return result and fianl\n",
    "print (result)\n",
    "print (\"10 - 3 =\", final)"
   ]
  }
 ],
 "metadata": {
  "kernelspec": {
   "display_name": "Python 3 (ipykernel)",
   "language": "python",
   "name": "python3"
  },
  "language_info": {
   "codemirror_mode": {
    "name": "ipython",
    "version": 3
   },
   "file_extension": ".py",
   "mimetype": "text/x-python",
   "name": "python",
   "nbconvert_exporter": "python",
   "pygments_lexer": "ipython3",
   "version": "3.11.4"
  }
 },
 "nbformat": 4,
 "nbformat_minor": 5
}
