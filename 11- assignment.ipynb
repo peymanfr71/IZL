{
 "cells": [
  {
   "cell_type": "code",
   "execution_count": 31,
   "id": "90c72f3a-7b9a-4bad-b06d-27ba5f1976ea",
   "metadata": {},
   "outputs": [],
   "source": [
    "# assignment-01) \n",
    "# Write a code to separate strings from numbers."
   ]
  },
  {
   "cell_type": "code",
   "execution_count": 32,
   "id": "61e34a20-0d0f-4a90-9692-200017ec3e1b",
   "metadata": {},
   "outputs": [
    {
     "name": "stdout",
     "output_type": "stream",
     "text": [
      "strings:  ['python', 'izlearn', 'Afshin']\n",
      "numbers:  [39, 50, 100, -100]\n"
     ]
    }
   ],
   "source": [
    "# Write your code here:\n",
    "mixed = ['python', 'izlearn', 'Afshin', 39, 50, 100, -100]\n",
    "\n",
    "# start here:\n",
    "print (\"strings: \", mixed[0:3])\n",
    "print (\"numbers: \", mixed[3:])\n"
   ]
  },
  {
   "cell_type": "code",
   "execution_count": 33,
   "id": "75201365-644c-40a6-b2bf-28f50aa41c2c",
   "metadata": {},
   "outputs": [
    {
     "name": "stdout",
     "output_type": "stream",
     "text": [
      "['python', 'izlearn', 'Afshin']\n",
      "[39, 50, 100, -100]\n"
     ]
    }
   ],
   "source": [
    "# Write your code here:\n",
    "mixed = ['python', 'izlearn', 'Afshin', 39, 50, 100, -100]\n",
    "\n",
    "# start here:\n",
    "string_list = []\n",
    "number_list = []\n",
    "for items in mixed:\n",
    "    if isinstance(items, str):\n",
    "        string_list.append(items)\n",
    "    else:\n",
    "        number_list.append(items)\n",
    "print (string_list)\n",
    "print (number_list)\n"
   ]
  },
  {
   "cell_type": "code",
   "execution_count": 34,
   "id": "bec2d4f0-7965-4d45-b68a-3f50639a8e4a",
   "metadata": {},
   "outputs": [],
   "source": [
    "# assignment-02) \n",
    "# Write a code to show the last item in the list."
   ]
  },
  {
   "cell_type": "code",
   "execution_count": 35,
   "id": "c1d922d3-12db-4fcc-b0e3-12771b262d57",
   "metadata": {},
   "outputs": [
    {
     "name": "stdout",
     "output_type": "stream",
     "text": [
      "last item is:  -100\n",
      "last item is:  -100\n"
     ]
    }
   ],
   "source": [
    "# Write your code here:\n",
    "mixed = ['python', 'izlearn', 'Afshin', 39, 50, 100, -100]\n",
    "\n",
    "# start here:\n",
    "print (\"last item is: \", mixed[6])\n",
    "print (\"last item is: \", mixed[-1])"
   ]
  },
  {
   "cell_type": "code",
   "execution_count": 36,
   "id": "4d5c5a4b-ab38-4af8-ad42-3c238717915f",
   "metadata": {},
   "outputs": [],
   "source": [
    "# assignment-03) \n",
    "# Write a code to print the list reverse."
   ]
  },
  {
   "cell_type": "code",
   "execution_count": 37,
   "id": "6d283ca1-6123-4cc1-967c-74de25865aba",
   "metadata": {},
   "outputs": [
    {
     "name": "stdout",
     "output_type": "stream",
     "text": [
      "[-100, 100, 50, 39, 'Afshin', 'izlearn', 'python']\n"
     ]
    }
   ],
   "source": [
    "# Write your code here:\n",
    "mixed = ['python', 'izlearn', 'Afshin', 39, 50, 100, -100]\n",
    "\n",
    "# start here:\n",
    "print (mixed[::-1])"
   ]
  },
  {
   "cell_type": "code",
   "execution_count": 38,
   "id": "1783aff1-d9aa-41d2-abe5-652a70d01a84",
   "metadata": {},
   "outputs": [],
   "source": [
    "# assignment-04) \n",
    "# Write a code to count the number of items in the list below:\n",
    "# list_01 = [23, 45, 87, -10, 7, 4, 2, \"Erfan\", \"Pouria\"]"
   ]
  },
  {
   "cell_type": "code",
   "execution_count": 39,
   "id": "f016ca32-2847-41ca-b09a-9d30faabe94b",
   "metadata": {},
   "outputs": [
    {
     "name": "stdout",
     "output_type": "stream",
     "text": [
      "there are 9 items in the list\n"
     ]
    }
   ],
   "source": [
    "# Write your code here:\n",
    "list_01 = [23, 45, 87, -10, 7, 4, 2, \"Erfan\", \"Pouria\"]\n",
    "\n",
    "# start here:\n",
    "print (\"there are\", len(list_01), \"items in the list\")"
   ]
  },
  {
   "cell_type": "code",
   "execution_count": 40,
   "id": "578b29bd-7bbf-45fe-93af-910b66bc1b39",
   "metadata": {},
   "outputs": [],
   "source": [
    "# assignment-05) \n",
    "# Write a code to sum all items in the list below:\n",
    "# list_02 = [4, 65.8, 101, 3.14, -18, 23, 115, -40]"
   ]
  },
  {
   "cell_type": "code",
   "execution_count": 41,
   "id": "b129b05b-edf6-45f9-881c-c7e80dbf1ee9",
   "metadata": {},
   "outputs": [
    {
     "name": "stdout",
     "output_type": "stream",
     "text": [
      "the total sum is equal to: 253.94\n"
     ]
    }
   ],
   "source": [
    "# Write your in this cell:\n",
    "list_02 = [4, 65.8, 101, 3.14, -18, 23, 115, -40]\n",
    "\n",
    "# start here:\n",
    "total = sum(list_02)\n",
    "print (\"the total sum is equal to:\", total)\n"
   ]
  },
  {
   "cell_type": "code",
   "execution_count": 42,
   "id": "32eafe84-1004-4802-a2db-e1c59a00f8ab",
   "metadata": {},
   "outputs": [],
   "source": [
    "# assignment-06) \n",
    "# Write a code to show the count, sum and average of all the items in the list below:\n",
    "# list_03 = [14, 65, 101, 950, -50, 440, 5, -40, 101, 222, 650]"
   ]
  },
  {
   "cell_type": "code",
   "execution_count": 43,
   "id": "63ad3201-9436-451d-bb88-4da98ab6f47b",
   "metadata": {},
   "outputs": [
    {
     "name": "stdout",
     "output_type": "stream",
     "text": [
      "total>>>  2458  count>>>  11  average>>> 223.45\n"
     ]
    }
   ],
   "source": [
    "# Write your code in this cell:\n",
    "list_03 = [14, 65, 101, 950, -50, 440, 5, -40, 101, 222, 650]\n",
    "\n",
    "# start here:\n",
    "total = sum(list_03)\n",
    "count = len(list_03)\n",
    "average = total / count\n",
    "print (\"total>>> \", total, \" count>>> \", count, \" average>>> {:.2f}\".format(average))"
   ]
  },
  {
   "cell_type": "code",
   "execution_count": 44,
   "id": "43f8cab5-a8cf-4915-970c-d40f674b2fc2",
   "metadata": {},
   "outputs": [],
   "source": [
    "# assignment-07) \n",
    "# Write a code to append each character in the sentence below to a list named my_chars"
   ]
  },
  {
   "cell_type": "code",
   "execution_count": 48,
   "id": "8590e793-8476-47a9-b647-f094ff97ee3f",
   "metadata": {},
   "outputs": [
    {
     "name": "stdout",
     "output_type": "stream",
     "text": [
      "['i']\n",
      "['i', 'z']\n",
      "['i', 'z', 'l']\n",
      "['i', 'z', 'l', 'e']\n",
      "['i', 'z', 'l', 'e', 'a']\n",
      "['i', 'z', 'l', 'e', 'a', 'r']\n",
      "['i', 'z', 'l', 'e', 'a', 'r', 'n']\n",
      "['i', 'z', 'l', 'e', 'a', 'r', 'n', '.']\n",
      "8\n"
     ]
    }
   ],
   "source": [
    "# Write your code here:\n",
    "sentence = \"izlearn.\"\n",
    "# start here:\n",
    "my_chars = []\n",
    "for char in sentence:\n",
    "    my_chars.append(char)\n",
    "    print (my_chars)\n",
    "print (len(sentence))"
   ]
  },
  {
   "cell_type": "code",
   "execution_count": 47,
   "id": "8a2e11c8-b498-42d1-ba3c-d23620afde4b",
   "metadata": {},
   "outputs": [
    {
     "name": "stdout",
     "output_type": "stream",
     "text": [
      "my cahrs list:  ['I', ' ', 's', 'h', 'o', 'u', 'l', 'd', ' ', 't', 'r', 'y', ' ', 'h', 'a', 'r', 'd', ' ', 't', 'o', ' ', 'g', 'e', 't', ' ', 'w', 'h', 'a', 't', ' ', 'i', 's', ' ', 'w', 'a', 'i', 't', 'i', 'n', 'g', ' ', 'f', 'o', 'r', ' ', 'm', 'e', ' ', 'i', 'n', ' ', 't', 'h', 'e', ' ', 'f', 'u', 't', 'u', 'r', 'e', '.']\n",
      "62\n"
     ]
    }
   ],
   "source": [
    "# Write your code here:\n",
    "sentence = \"I should try hard to get what is waiting for me in the future.\"\n",
    "# start here:\n",
    "my_chars = list(sentence)\n",
    "print (\"my cahrs list: \", my_chars)\n",
    "print (len(sentence))"
   ]
  },
  {
   "cell_type": "code",
   "execution_count": null,
   "id": "33f35e84-2598-4975-b05f-b05e7fd1564f",
   "metadata": {},
   "outputs": [],
   "source": []
  }
 ],
 "metadata": {
  "kernelspec": {
   "display_name": "Python 3 (ipykernel)",
   "language": "python",
   "name": "python3"
  },
  "language_info": {
   "codemirror_mode": {
    "name": "ipython",
    "version": 3
   },
   "file_extension": ".py",
   "mimetype": "text/x-python",
   "name": "python",
   "nbconvert_exporter": "python",
   "pygments_lexer": "ipython3",
   "version": "3.11.4"
  }
 },
 "nbformat": 4,
 "nbformat_minor": 5
}
