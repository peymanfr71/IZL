{
 "cells": [
  {
   "cell_type": "code",
   "execution_count": 1,
   "id": "d6786d36-4a06-4ee6-8b97-0d19d7b1cde5",
   "metadata": {},
   "outputs": [
    {
     "name": "stdout",
     "output_type": "stream",
     "text": [
      "the sum is:  186.5\n"
     ]
    }
   ],
   "source": [
    "# Answer for Ex-01:\n",
    "my_list = [45, 87.5, 32, 15, 7]\n",
    "# start here:\n",
    "total = 0\n",
    "for number in my_list:\n",
    "    total = total + number\n",
    "print (\"the sum is: \", total)"
   ]
  },
  {
   "cell_type": "code",
   "execution_count": 2,
   "id": "20fd8b2f-ac8b-4994-8a3f-33c2995db7cd",
   "metadata": {},
   "outputs": [
    {
     "name": "stdout",
     "output_type": "stream",
     "text": [
      "186.5 5 37.3\n"
     ]
    }
   ],
   "source": [
    "my_list = [45, 87.5, 32, 15, 7]\n",
    "total = sum(my_list)\n",
    "count = len(my_list)\n",
    "average = total / count\n",
    "print (total, count, average)"
   ]
  },
  {
   "cell_type": "code",
   "execution_count": 3,
   "id": "3fea05c0-9061-4f8c-8a5b-36e1d97b3927",
   "metadata": {},
   "outputs": [
    {
     "name": "stdout",
     "output_type": "stream",
     "text": [
      "the largest number is:  34\n"
     ]
    }
   ],
   "source": [
    "# Answer for Ex-02:\n",
    "my_list1 = [10, 4, 5, 34, 23]\n",
    "\n",
    "# start here:\n",
    "maximum = max(my_list1)\n",
    "print (\"the largest number is: \", maximum)\n"
   ]
  },
  {
   "cell_type": "code",
   "execution_count": 4,
   "id": "1805c327-9d49-43ff-892c-379ac0a8bb29",
   "metadata": {},
   "outputs": [
    {
     "name": "stdout",
     "output_type": "stream",
     "text": [
      "Maximum number:  34\n"
     ]
    }
   ],
   "source": [
    "# Answer for Ex-02:\n",
    "my_list1 = [10, 4, 5, 34, 23]\n",
    "# start here:\n",
    "max_num = 0\n",
    "for number in my_list1:\n",
    "    if number > max_num:\n",
    "        max_num = number\n",
    "print (\"Maximum number: \", max_num)"
   ]
  },
  {
   "cell_type": "code",
   "execution_count": 5,
   "id": "180211fd-d0bf-46c7-a8b5-c5330cc0db7d",
   "metadata": {},
   "outputs": [
    {
     "name": "stdout",
     "output_type": "stream",
     "text": [
      "minimum number:  -10\n"
     ]
    }
   ],
   "source": [
    "# Answer for Ex-02:\n",
    "my_list2 = [-4, -10, 15, 45, 0]\n",
    "\n",
    "# start here:\n",
    "min_num = 0\n",
    "for number in my_list2:\n",
    "    if number < min_num:\n",
    "        min_num = number\n",
    "print (\"minimum number: \", min_num)"
   ]
  },
  {
   "cell_type": "code",
   "execution_count": 6,
   "id": "8d6680dd-befc-4459-b87f-22bf35d6ed61",
   "metadata": {},
   "outputs": [
    {
     "name": "stdout",
     "output_type": "stream",
     "text": [
      "the smallest number is:  4\n"
     ]
    }
   ],
   "source": [
    "# Answer for Ex-02:\n",
    "my_list2 = [-4, -10, 15, 45, 0]\n",
    "\n",
    "# start here:\n",
    "minimum = min(my_list1)\n",
    "print (\"the smallest number is: \", minimum)\n",
    "   "
   ]
  },
  {
   "cell_type": "code",
   "execution_count": 7,
   "id": "85d35725-0dc3-4b51-b76a-dc9dfc93d23f",
   "metadata": {},
   "outputs": [
    {
     "name": "stdout",
     "output_type": "stream",
     "text": [
      "[-45, -23, -14, -5, 0, 2, 4, 5, 7, 10, 11, 12, 66, 125, 250]\n",
      "max:  250\n",
      "min:  -45\n"
     ]
    }
   ],
   "source": [
    "# Answer for Ex-04: \n",
    "my_giant_list = [10, 5, 125, -14, -45, 2, 0, 250, 7, 66, 4, 12, 11, -23, -5]\n",
    "\n",
    "# start here:\n",
    "my_giant_list.sort()\n",
    "print (my_giant_list)\n",
    "max_num = None\n",
    "min_num = None\n",
    "for number in my_giant_list:\n",
    "    if max_num == None or min_num == None:\n",
    "        max_num = number\n",
    "        min_num = number\n",
    "    elif number > max_num:\n",
    "        max_num = number\n",
    "    elif number < min_num:\n",
    "        min_num = number\n",
    "print (\"max: \", max_num)\n",
    "print (\"min: \", min_num)"
   ]
  },
  {
   "cell_type": "code",
   "execution_count": 8,
   "id": "619d4852-7066-4327-a4cc-55d26a4ac722",
   "metadata": {},
   "outputs": [
    {
     "name": "stdout",
     "output_type": "stream",
     "text": [
      "405\n",
      "250\n",
      "-45\n"
     ]
    }
   ],
   "source": [
    "my_giant_list = [10, 5, 125, -14, -45, 2, 0, 250, 7, 66, 4, 12, 11, -23, -5]\n",
    "\n",
    "# start here:\n",
    "print (sum(my_giant_list))\n",
    "print (max(my_giant_list))\n",
    "print (min(my_giant_list))"
   ]
  },
  {
   "cell_type": "code",
   "execution_count": null,
   "id": "22e73a7f-bedb-488a-a9a1-2cc14bf857fb",
   "metadata": {},
   "outputs": [],
   "source": []
  }
 ],
 "metadata": {
  "kernelspec": {
   "display_name": "Python 3 (ipykernel)",
   "language": "python",
   "name": "python3"
  },
  "language_info": {
   "codemirror_mode": {
    "name": "ipython",
    "version": 3
   },
   "file_extension": ".py",
   "mimetype": "text/x-python",
   "name": "python",
   "nbconvert_exporter": "python",
   "pygments_lexer": "ipython3",
   "version": "3.11.4"
  }
 },
 "nbformat": 4,
 "nbformat_minor": 5
}
